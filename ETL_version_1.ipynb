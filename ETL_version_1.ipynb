{
 "cells": [
  {
   "attachments": {},
   "cell_type": "markdown",
   "metadata": {},
   "source": [
    "### Documentación\n",
    "\n",
    "Autor:  Julian David Fernandez\n",
    "Curso:  Data Engineer - Coderhouse\n",
    "Fecha:  6 Abril - 2023\n",
    "Ver  : 1.0.0\n",
    "\n",
    "#### Proposito\n",
    "\n",
    "Creación de una ETL, para extracción de informaciíon climatica (ultimos 8 dias) de todos los aeropuertos comerciales del estado de la Floria en los Estados unidos. La informaciíon geografica se encuentra complementada con la información geografica del aeropuerto.\n",
    "\n",
    "URL API: https://docs.aviationapi.com/"
   ]
  },
  {
   "cell_type": "code",
   "execution_count": 14,
   "metadata": {},
   "outputs": [],
   "source": [
    "# Importar las librerias\n",
    "import pandas as pd\n",
    "import numpy as np\n",
    "import sqlalchemy\n",
    "import requests"
   ]
  },
  {
   "attachments": {},
   "cell_type": "markdown",
   "metadata": {},
   "source": [
    "### Paso 1 - EXTRACT\n",
    "\n",
    "Listado de aeropuertos a consultar"
   ]
  },
  {
   "cell_type": "code",
   "execution_count": 15,
   "metadata": {},
   "outputs": [],
   "source": [
    "# inicializar lista de lista con los nombres de los aeropuertos de la florida y los codigos FAA y ICAO\n",
    "data = [['Daytona Beach',\t'DAB',\t'KDAB'],['Fort Lauderdale',\t'FLL',\t'KFLL'],['Fort Myers',\t'RSW',\t'KRSW'],['Fort Walton Beach',\t'VPS',\t'KVPS'],['Gainesville',\t'GNV',\t'KGNV'],['Jacksonville',\t'JAX',\t'KJAX'],['Key West',\t'EYW',\t'KEYW'],['Melbourne',\t'MLB',\t'KMLB'],['Miami',\t'MIA',\t'KMIA'],['Orlando',\t'MCO',\t'KMCO'],['Panama City',\t'ECP',\t'KECP'],['Pensacola',\t'PNS',\t'KPNS'],['Punta Gorda',\t'PGD',\t'KPGD'],['Sanford',\t'SFB',\t'KSFB'],['Sarasota',\t'SRQ',\t'KSRQ'],['St. Petersburg',\t'PIE',\t'KPIE'],['Tallahassee',\t'TLH',\t'KTLH'],['Tampa',\t'TPA',\t'KTPA'], ['West Palm Beach',\t'PBI',\t'KPBI']]\n",
    "\n",
    "# Creacion del dataframe \n",
    "df_airports = pd.DataFrame(data, columns=['Name', 'FAA', 'ICAO'])"
   ]
  },
  {
   "cell_type": "code",
   "execution_count": 16,
   "metadata": {},
   "outputs": [
    {
     "data": {
      "text/plain": [
       "'https://api.aviationapi.com/v1/airports?apt=DAB,FLL,RSW,VPS,GNV,JAX,EYW,MLB,MIA,MCO,ECP,PNS,PGD,SFB,SRQ,PIE,TLH,TPA,PBI'"
      ]
     },
     "execution_count": 16,
     "metadata": {},
     "output_type": "execute_result"
    }
   ],
   "source": [
    "# Extraccion de datos geograficos: API\n",
    "get_params = '?apt=' + \",\".join(df_airports.FAA.values.tolist())\n",
    "url_endpoint_geo = 'https://api.aviationapi.com/v1/airports' + get_params\n",
    "url_endpoint_geo"
   ]
  },
  {
   "cell_type": "code",
   "execution_count": 17,
   "metadata": {},
   "outputs": [
    {
     "data": {
      "text/plain": [
       "'https://api.aviationapi.com/v1/weather/metar?apt=DAB,FLL,RSW,VPS,GNV,JAX,EYW,MLB,MIA,MCO,ECP,PNS,PGD,SFB,SRQ,PIE,TLH,TPA,PBI'"
      ]
     },
     "execution_count": 17,
     "metadata": {},
     "output_type": "execute_result"
    }
   ],
   "source": [
    "# Extraccion de datos climaticos: API\n",
    "url_endpoint_weather = 'https://api.aviationapi.com/v1/weather/metar' + get_params\n",
    "url_endpoint_weather"
   ]
  },
  {
   "attachments": {},
   "cell_type": "markdown",
   "metadata": {},
   "source": [
    "### Paso 2 - TRANSFORM\n",
    "\n",
    "Extraccion - Consulta de información geografica de los aeropuertos"
   ]
  },
  {
   "cell_type": "code",
   "execution_count": 18,
   "metadata": {},
   "outputs": [],
   "source": [
    "# Consulta de información geografica por medio de un Request HTTP\n",
    "headers = {'Accept': 'application/json'}\n",
    "r_geo = requests.get(url_endpoint_geo, headers=headers)\n",
    "\n",
    "# Conversión de json a objeto en python \n",
    "airport_geo_dict = r_geo.json()\n",
    "\n",
    "# y luego transformar los diccionarios en DataFrames\n",
    "temp = []\n",
    "\n",
    "for k, vals in airport_geo_dict.items():\n",
    "    temp.append(vals[0])\n",
    "\n",
    "df_airport_geo = pd.DataFrame(temp)"
   ]
  },
  {
   "cell_type": "code",
   "execution_count": 19,
   "metadata": {},
   "outputs": [
    {
     "data": {
      "text/html": [
       "<div>\n",
       "<style scoped>\n",
       "    .dataframe tbody tr th:only-of-type {\n",
       "        vertical-align: middle;\n",
       "    }\n",
       "\n",
       "    .dataframe tbody tr th {\n",
       "        vertical-align: top;\n",
       "    }\n",
       "\n",
       "    .dataframe thead th {\n",
       "        text-align: right;\n",
       "    }\n",
       "</style>\n",
       "<table border=\"1\" class=\"dataframe\">\n",
       "  <thead>\n",
       "    <tr style=\"text-align: right;\">\n",
       "      <th></th>\n",
       "      <th>site_number</th>\n",
       "      <th>type</th>\n",
       "      <th>facility_name</th>\n",
       "      <th>faa_ident</th>\n",
       "      <th>icao_ident</th>\n",
       "      <th>region</th>\n",
       "      <th>district_office</th>\n",
       "      <th>state</th>\n",
       "      <th>state_full</th>\n",
       "      <th>county</th>\n",
       "      <th>...</th>\n",
       "      <th>certification_typedate</th>\n",
       "      <th>customs_airport_of_entry</th>\n",
       "      <th>military_joint_use</th>\n",
       "      <th>military_landing</th>\n",
       "      <th>lighting_schedule</th>\n",
       "      <th>beacon_schedule</th>\n",
       "      <th>control_tower</th>\n",
       "      <th>unicom</th>\n",
       "      <th>ctaf</th>\n",
       "      <th>effective_date</th>\n",
       "    </tr>\n",
       "  </thead>\n",
       "  <tbody>\n",
       "    <tr>\n",
       "      <th>0</th>\n",
       "      <td>03147.*A</td>\n",
       "      <td>AIRPORT</td>\n",
       "      <td>DAYTONA BEACH INTL</td>\n",
       "      <td>DAB</td>\n",
       "      <td>KDAB</td>\n",
       "      <td>ASO</td>\n",
       "      <td>ORL</td>\n",
       "      <td>FL</td>\n",
       "      <td>FLORIDA</td>\n",
       "      <td>VOLUSIA</td>\n",
       "      <td>...</td>\n",
       "      <td>I C S 05/1973</td>\n",
       "      <td>N</td>\n",
       "      <td>N</td>\n",
       "      <td>Y</td>\n",
       "      <td>SS-SR</td>\n",
       "      <td>SS-SR</td>\n",
       "      <td>Y</td>\n",
       "      <td>122.95</td>\n",
       "      <td></td>\n",
       "      <td>11/04/2021</td>\n",
       "    </tr>\n",
       "    <tr>\n",
       "      <th>1</th>\n",
       "      <td>03192.*A</td>\n",
       "      <td>AIRPORT</td>\n",
       "      <td>FORT LAUDERDALE/HOLLYWOOD INTL</td>\n",
       "      <td>FLL</td>\n",
       "      <td>KFLL</td>\n",
       "      <td>ASO</td>\n",
       "      <td>ORL</td>\n",
       "      <td>FL</td>\n",
       "      <td>FLORIDA</td>\n",
       "      <td>BROWARD</td>\n",
       "      <td>...</td>\n",
       "      <td>I E S 05/1973</td>\n",
       "      <td>Y</td>\n",
       "      <td>N</td>\n",
       "      <td>Y</td>\n",
       "      <td>SS-SR</td>\n",
       "      <td>SS-SR</td>\n",
       "      <td>Y</td>\n",
       "      <td>122.95</td>\n",
       "      <td></td>\n",
       "      <td>11/04/2021</td>\n",
       "    </tr>\n",
       "    <tr>\n",
       "      <th>2</th>\n",
       "      <td>03198.2*A</td>\n",
       "      <td>AIRPORT</td>\n",
       "      <td>SOUTHWEST FLORIDA INTL</td>\n",
       "      <td>RSW</td>\n",
       "      <td>KRSW</td>\n",
       "      <td>ASO</td>\n",
       "      <td>ORL</td>\n",
       "      <td>FL</td>\n",
       "      <td>FLORIDA</td>\n",
       "      <td>LEE</td>\n",
       "      <td>...</td>\n",
       "      <td>I D S 05/1983</td>\n",
       "      <td>N</td>\n",
       "      <td></td>\n",
       "      <td>Y</td>\n",
       "      <td>SEE RMK</td>\n",
       "      <td>SS-SR</td>\n",
       "      <td>Y</td>\n",
       "      <td>122.95</td>\n",
       "      <td>128.75</td>\n",
       "      <td>11/04/2021</td>\n",
       "    </tr>\n",
       "    <tr>\n",
       "      <th>3</th>\n",
       "      <td>03534.*A</td>\n",
       "      <td>AIRPORT</td>\n",
       "      <td>EGLIN AFB/DESTIN-FT WALTON BEACH</td>\n",
       "      <td>VPS</td>\n",
       "      <td>KVPS</td>\n",
       "      <td>ASO</td>\n",
       "      <td>ORL</td>\n",
       "      <td>FL</td>\n",
       "      <td>FLORIDA</td>\n",
       "      <td>OKALOOSA</td>\n",
       "      <td>...</td>\n",
       "      <td>I C S 05/1973</td>\n",
       "      <td>N</td>\n",
       "      <td>Y</td>\n",
       "      <td>N</td>\n",
       "      <td>SS-SR</td>\n",
       "      <td>SS-SR</td>\n",
       "      <td>Y</td>\n",
       "      <td></td>\n",
       "      <td></td>\n",
       "      <td>11/04/2021</td>\n",
       "    </tr>\n",
       "    <tr>\n",
       "      <th>4</th>\n",
       "      <td>03210.*A</td>\n",
       "      <td>AIRPORT</td>\n",
       "      <td>GAINESVILLE RGNL</td>\n",
       "      <td>GNV</td>\n",
       "      <td>KGNV</td>\n",
       "      <td>ASO</td>\n",
       "      <td>ORL</td>\n",
       "      <td>FL</td>\n",
       "      <td>FLORIDA</td>\n",
       "      <td>ALACHUA</td>\n",
       "      <td>...</td>\n",
       "      <td>I B S 05/1973</td>\n",
       "      <td>N</td>\n",
       "      <td>N</td>\n",
       "      <td>Y</td>\n",
       "      <td>SEE RMK</td>\n",
       "      <td>SS-SR</td>\n",
       "      <td>Y</td>\n",
       "      <td>122.95</td>\n",
       "      <td>119.55</td>\n",
       "      <td>11/04/2021</td>\n",
       "    </tr>\n",
       "  </tbody>\n",
       "</table>\n",
       "<p>5 rows × 41 columns</p>\n",
       "</div>"
      ],
      "text/plain": [
       "  site_number     type                     facility_name faa_ident icao_ident  \\\n",
       "0    03147.*A  AIRPORT                DAYTONA BEACH INTL       DAB       KDAB   \n",
       "1    03192.*A  AIRPORT    FORT LAUDERDALE/HOLLYWOOD INTL       FLL       KFLL   \n",
       "2   03198.2*A  AIRPORT            SOUTHWEST FLORIDA INTL       RSW       KRSW   \n",
       "3    03534.*A  AIRPORT  EGLIN AFB/DESTIN-FT WALTON BEACH       VPS       KVPS   \n",
       "4    03210.*A  AIRPORT                  GAINESVILLE RGNL       GNV       KGNV   \n",
       "\n",
       "  region district_office state state_full    county  ...  \\\n",
       "0    ASO             ORL    FL    FLORIDA   VOLUSIA  ...   \n",
       "1    ASO             ORL    FL    FLORIDA   BROWARD  ...   \n",
       "2    ASO             ORL    FL    FLORIDA       LEE  ...   \n",
       "3    ASO             ORL    FL    FLORIDA  OKALOOSA  ...   \n",
       "4    ASO             ORL    FL    FLORIDA   ALACHUA  ...   \n",
       "\n",
       "  certification_typedate customs_airport_of_entry military_joint_use  \\\n",
       "0          I C S 05/1973                        N                  N   \n",
       "1          I E S 05/1973                        Y                  N   \n",
       "2          I D S 05/1983                        N                      \n",
       "3          I C S 05/1973                        N                  Y   \n",
       "4          I B S 05/1973                        N                  N   \n",
       "\n",
       "  military_landing lighting_schedule beacon_schedule control_tower  unicom  \\\n",
       "0                Y             SS-SR           SS-SR             Y  122.95   \n",
       "1                Y             SS-SR           SS-SR             Y  122.95   \n",
       "2                Y           SEE RMK           SS-SR             Y  122.95   \n",
       "3                N             SS-SR           SS-SR             Y           \n",
       "4                Y           SEE RMK           SS-SR             Y  122.95   \n",
       "\n",
       "     ctaf effective_date  \n",
       "0             11/04/2021  \n",
       "1             11/04/2021  \n",
       "2  128.75     11/04/2021  \n",
       "3             11/04/2021  \n",
       "4  119.55     11/04/2021  \n",
       "\n",
       "[5 rows x 41 columns]"
      ]
     },
     "execution_count": 19,
     "metadata": {},
     "output_type": "execute_result"
    }
   ],
   "source": [
    "df_airport_geo.head()"
   ]
  },
  {
   "cell_type": "code",
   "execution_count": 20,
   "metadata": {},
   "outputs": [],
   "source": [
    "# Consulta de información climatica por medio de un Request HTTP\n",
    "r_weather = requests.get(url_endpoint_weather, headers=headers)\n",
    "\n",
    "# Conversión de json a objeto en python \n",
    "airport_weather_dict = r_weather.json()\n",
    "airport_weather_dict\n",
    "# y luego transformar los diccionarios en DataFrames\n",
    "temp = []\n",
    "\n",
    "# ajuste del objeto json con el objetivo de transformar todos los niveles del objeto en una tabla columnar.\n",
    "for k, vals in airport_weather_dict.items():\n",
    "\n",
    "    sky_conditions = vals['sky_conditions'][0]\n",
    "    sky_conditions[\"sky_conditionscoverage\"] = sky_conditions.pop(\"coverage\")\n",
    "    sky_conditions[\"sky_conditionsbase_agl\"] = sky_conditions.pop(\"base_agl\")\n",
    "    vals.update(sky_conditions)\n",
    "    temp.append(vals)\n",
    "\n",
    "df_airport_weather = pd.DataFrame(temp)\n",
    "\n",
    "# limpieza de información raw (datos crudos) la cual es redundante para el dataset.\n",
    "del df_airport_weather['raw']\n",
    "del df_airport_weather['sky_conditions']\n"
   ]
  },
  {
   "cell_type": "code",
   "execution_count": 21,
   "metadata": {},
   "outputs": [
    {
     "data": {
      "text/plain": [
       "station_id                object\n",
       "temp                      object\n",
       "dewpoint                  object\n",
       "wind                      object\n",
       "wind_vel                  object\n",
       "visibility                object\n",
       "alt_hg                    object\n",
       "alt_mb                    object\n",
       "wx                        object\n",
       "auto_report               object\n",
       "category                  object\n",
       "report_type               object\n",
       "time_of_obs               object\n",
       "sky_conditionscoverage    object\n",
       "sky_conditionsbase_agl    object\n",
       "dtype: object"
      ]
     },
     "execution_count": 21,
     "metadata": {},
     "output_type": "execute_result"
    }
   ],
   "source": [
    "df_airport_weather.dtypes"
   ]
  },
  {
   "cell_type": "code",
   "execution_count": 22,
   "metadata": {},
   "outputs": [],
   "source": [
    "# Cambio de tipos de datos de objkect (strings) a su respectivo formato\n",
    "convert_dict = {'temp': float, 'dewpoint': float, 'wind': int, 'wind_vel': int,\n",
    "                'visibility': float, 'alt_hg': float, 'alt_mb': float, 'sky_conditionsbase_agl': float \n",
    "                }\n",
    "\n",
    "df_airport_weather = df_airport_weather.astype(convert_dict)"
   ]
  },
  {
   "attachments": {},
   "cell_type": "markdown",
   "metadata": {},
   "source": [
    "### Pase 3 - LOAD\n",
    "\n",
    "Conjunto de pasos para la carga de datos dentro de Amazon Redshift, carga de la informacion geografica y la información climatica."
   ]
  },
  {
   "cell_type": "code",
   "execution_count": 23,
   "metadata": {},
   "outputs": [],
   "source": [
    "# metodo para importar credenciales de acceso desde una archivo .py con las credenciales (seguridad para publicar en GITHUB)\n",
    "\n",
    "# url       = \"xxxxxxxx.redshift.amazonaws.com\" \n",
    "# port      = \"5439\"\n",
    "# data_base = \"xxxxx-database\" \n",
    "# user      = \"xxxxx_coderhouse\"\n",
    "# pwd       = \"xxxXXXXxxx\"\n",
    "# myschema  = \"xxxxx_coderhouse\" \n",
    "\n",
    "from credencials import *"
   ]
  },
  {
   "cell_type": "code",
   "execution_count": 24,
   "metadata": {},
   "outputs": [],
   "source": [
    "from sqlalchemy import create_engine\n",
    "\n",
    "#Se crear la conexión\n",
    "conn = create_engine(f'postgresql://{user}:{pwd}@{url}:{port}/{data_base}')"
   ]
  },
  {
   "cell_type": "code",
   "execution_count": 25,
   "metadata": {},
   "outputs": [],
   "source": [
    "# Carga de la información actualizada del clima, se utiliza la opcion append, para tener un historico del clima, cada vez que se ejecuta\n",
    "# el ETl.\n",
    "df_airport_weather.to_sql('proyecto_weather', conn, index=False, if_exists='append', schema=myschema)"
   ]
  },
  {
   "cell_type": "code",
   "execution_count": 26,
   "metadata": {},
   "outputs": [],
   "source": [
    "# Carga de la información actualizada del aeropuerto, se remplaza la información de los aeropeurtos, por no ser una varible de tiempo\n",
    "# sino que contiene información descriptiva y de estado de cada aeropuerto.\n",
    "df_airport_geo.to_sql('proyecto_airports', conn, index=False, if_exists='replace', schema=myschema)"
   ]
  },
  {
   "cell_type": "code",
   "execution_count": 27,
   "metadata": {},
   "outputs": [],
   "source": [
    "# Se guardan copias locales en archivos de texto CSV, como soporte\n",
    "df_airport_geo.to_csv('airport_geo.csv', index=False)"
   ]
  },
  {
   "cell_type": "code",
   "execution_count": 28,
   "metadata": {},
   "outputs": [],
   "source": [
    "# Se guardan copias en archivos de texto CSV, como soporte\n",
    "df_airport_weather.to_csv('airport_weather.csv', index=False, mode='a', header=False)"
   ]
  }
 ],
 "metadata": {
  "kernelspec": {
   "display_name": "Python 3",
   "language": "python",
   "name": "python3"
  },
  "language_info": {
   "codemirror_mode": {
    "name": "ipython",
    "version": 3
   },
   "file_extension": ".py",
   "mimetype": "text/x-python",
   "name": "python",
   "nbconvert_exporter": "python",
   "pygments_lexer": "ipython3",
   "version": "3.9.1"
  },
  "orig_nbformat": 4
 },
 "nbformat": 4,
 "nbformat_minor": 2
}
